{
 "cells": [
  {
   "cell_type": "markdown",
   "metadata": {},
   "source": [
    "<h1><span style=\"color:red\">Generate Contingency Tables</span></h1>\n",
    "\n",
    "### This notebook reads numeric and categorical variables from the survey dataset, lets users compute a contingency table from variables of interest and test for independence."
   ]
  },
  {
   "cell_type": "markdown",
   "metadata": {},
   "source": [
    "## 1. Retrieve survey parameters from the URL"
   ]
  },
  {
   "cell_type": "code",
   "execution_count": null,
   "metadata": {},
   "outputs": [],
   "source": [
    "%%javascript\n",
    "function getQueryStringValue (key)\n",
    "{  \n",
    "    return unescape(window.location.search.replace(new RegExp(\"^(?:.*[&\\\\?]\" + escape(key).replace(/[\\.\\+\\*]/g, \"\\\\$&\") + \"(?:\\\\=([^&]*))?)?.*$\", \"i\"), \"$1\"));\n",
    "}\n",
    "IPython.notebook.kernel.execute(\"survey_url='\".concat(getQueryStringValue(\"surveyurl\")).concat(\"'\"));\n",
    "IPython.notebook.kernel.execute(\"views='\".concat(getQueryStringValue(\"views\")).concat(\"'\"));\n",
    "IPython.notebook.kernel.execute(\"view='\".concat(getQueryStringValue(\"view\")).concat(\"'\"));\n",
    "IPython.notebook.kernel.execute(\"user='\".concat(getQueryStringValue(\"user\")).concat(\"'\"));\n",
    "IPython.notebook.kernel.execute(\"csv_file='\".concat(getQueryStringValue(\"csv\")).concat(\"'\")); \n",
    "IPython.notebook.kernel.execute(\"dzc_file='\".concat(getQueryStringValue(\"dzc\")).concat(\"'\")); \n",
    "IPython.notebook.kernel.execute(\"params='\".concat(getQueryStringValue(\"params\")).concat(\"'\")); \n",
    "IPython.notebook.kernel.execute(\"active_object='\".concat(getQueryStringValue(\"activeobject\")).concat(\"'\")); \n",
    "IPython.notebook.kernel.execute(\"full_notebook_url='\" + window.location + \"'\"); "
   ]
  },
  {
   "cell_type": "code",
   "execution_count": null,
   "metadata": {},
   "outputs": [],
   "source": [
    "# common imports\n",
    "from __future__ import print_function\n",
    "from ipywidgets import interact, interactive, fixed, interact_manual\n",
    "import ipywidgets as widgets\n",
    "from IPython.display import Markdown, display\n",
    "from ipyfilechooser import FileChooser\n",
    "\n",
    "import pandas as pd    \n",
    "import numpy as np\n",
    "import panel as pn\n",
    "import statsmodels.api as sm\n",
    "\n",
    "pn.extension()\n",
    "def printmd(string):\n",
    "    display(Markdown(string))\n",
    "\n",
    "absolutePath = \"../../temp_csvs/\"\n",
    "\n",
    "# local imports\n",
    "import sys\n",
    "sys.path.insert(1, '../../helpers')\n",
    "import panel_libs as panellibs\n",
    "import suave_integration as suaveint"
   ]
  },
  {
   "cell_type": "markdown",
   "metadata": {},
   "source": [
    "## 2. Read the survey file"
   ]
  },
  {
   "cell_type": "code",
   "execution_count": null,
   "metadata": {},
   "outputs": [],
   "source": [
    "# read the csv file\n",
    "df = panellibs.extract_data(absolutePath + csv_file)\n",
    "\n",
    "# create a list of variable names\n",
    "variables_df = pd.DataFrame({'varname':df.columns})\n",
    "printmd(\"<b><span style='color:red'>All variables in the survey file:</span></b>\")\n",
    "print(variables_df.varname.values)"
   ]
  },
  {
   "cell_type": "markdown",
   "metadata": {},
   "source": [
    "## 3. Select variables from survey"
   ]
  },
  {
   "cell_type": "code",
   "execution_count": null,
   "metadata": {},
   "outputs": [],
   "source": [
    "# input csv\n",
    "# df = pd.read_csv('aim1_aim2_cleansed.csv')\n",
    "df = sm.datasets.get_rdataset(\"Arthritis\", \"vcd\").data\n",
    "df.head()"
   ]
  },
  {
   "cell_type": "code",
   "execution_count": null,
   "metadata": {},
   "outputs": [],
   "source": [
    "# select number of variables for contingency table\n",
    "n_row = pn.widgets.IntSlider(name='Select Number of Row Variables',start=1, end=2, value=1)\n",
    "n_col = pn.widgets.IntSlider(name='Select Number of Column Variables',start=1, end=2, value=1)\n",
    "\n",
    "pn.Column(n_row, n_col)"
   ]
  },
  {
   "cell_type": "code",
   "execution_count": null,
   "metadata": {},
   "outputs": [],
   "source": [
    "# select variables from survey\n",
    "row_vars = pn.widgets.MultiChoice(name='Select Row Variables for Contingency Table',\n",
    "                                  value=[], options=list(df.columns), max_items=n_row.value)\n",
    "col_vars = pn.widgets.MultiChoice(name='Select Column Variables for Contingency Table',\n",
    "                                  value=[], options=list(df.columns), max_items=n_col.value)\n",
    "pn.Row(row_vars, col_vars, height=250)"
   ]
  },
  {
   "cell_type": "code",
   "execution_count": null,
   "metadata": {},
   "outputs": [],
   "source": [
    "# handle NaN values in survey/dataframe"
   ]
  },
  {
   "cell_type": "markdown",
   "metadata": {},
   "source": [
    "## 4. Generate contingency table"
   ]
  },
  {
   "cell_type": "code",
   "execution_count": null,
   "metadata": {},
   "outputs": [],
   "source": [
    "def generate_table(df, row_variables, column_variables):\n",
    "    \"\"\"\n",
    "    Helper function to generate a contingency table from the input dataframe\n",
    "    with a given list of row_variables and column_variables.\n",
    "    \"\"\"\n",
    "    tab = pd.crosstab([df[row_variables[i]] for i in range(len(row_variables))],\n",
    "                      [df[column_variables[i]] for i in range(len(column_variables))])\n",
    "    table = sm.stats.Table(tab)\n",
    "    return table.table_orig, table"
   ]
  },
  {
   "cell_type": "code",
   "execution_count": null,
   "metadata": {},
   "outputs": [],
   "source": [
    "# bin all numerical variables in original df\n",
    "df_binned = df.apply(pd.to_numeric, errors='ignore')\n",
    "numeric_cols = df_binned.select_dtypes(include=np.number).columns.tolist()\n",
    "df_binned[numeric_cols] = df_binned[numeric_cols].apply(pd.cut, bins=5)"
   ]
  },
  {
   "cell_type": "code",
   "execution_count": null,
   "metadata": {},
   "outputs": [],
   "source": [
    "# generate contingency table\n",
    "selected_row_vars = row_vars.value\n",
    "selected_col_vars = col_vars.value\n",
    "tab = generate_table(df_binned, selected_row_vars, selected_col_vars)\n",
    "tab[0]"
   ]
  },
  {
   "cell_type": "code",
   "execution_count": null,
   "metadata": {},
   "outputs": [],
   "source": [
    "# denote whether contingency table is two-way or multi-way\n",
    "two_way = False\n",
    "total_vars = len(row_vars.value + col_vars.value)\n",
    "if total_vars == 2:\n",
    "    two_way = True"
   ]
  },
  {
   "cell_type": "markdown",
   "metadata": {},
   "source": [
    "## 5. Test for independence"
   ]
  },
  {
   "cell_type": "code",
   "execution_count": null,
   "metadata": {},
   "outputs": [],
   "source": [
    "def chi_square(table, alpha=.05):\n",
    "    \"\"\"\n",
    "    Performs a chi-square test of independence in an\n",
    "    (r x c) contingency table at the given significance level\n",
    "    \"\"\"\n",
    "    chi2 = table.test_nominal_association()\n",
    "    \n",
    "    # display a warning if expected counts are < 5\n",
    "    exp_freq = table.fittedvalues.to_numpy()\n",
    "    if (exp_freq < 5).sum() != 0:\n",
    "        print(\"Warning: table contains expected frequencies less than 5.\")\n",
    "\n",
    "    # display results of chi-square test\n",
    "    p_val = chi2.pvalue\n",
    "    if p_val < alpha:\n",
    "        print(\"P-value: {}. Table variables are associated at significance level: {}\".format(p_val.round(4), alpha))\n",
    "    else:\n",
    "        print(\"P-value: {}. Table variables are independent at significance level: {}\".format(p_val.round(4), alpha))"
   ]
  },
  {
   "cell_type": "code",
   "execution_count": null,
   "metadata": {},
   "outputs": [],
   "source": [
    "# perform chi-square test of independence for two-way tables\n",
    "if two_way:\n",
    "    result = chi_square(tab[1])\n",
    "result"
   ]
  },
  {
   "cell_type": "code",
   "execution_count": null,
   "metadata": {},
   "outputs": [],
   "source": []
  },
  {
   "cell_type": "code",
   "execution_count": null,
   "metadata": {},
   "outputs": [],
   "source": [
    "# add case for ordinal data"
   ]
  },
  {
   "cell_type": "code",
   "execution_count": null,
   "metadata": {},
   "outputs": [],
   "source": [
    "# generalize for only r x c not stratified tables\n",
    "# add check to see if variables are ordinal\n",
    "# add check for NaN values in df"
   ]
  },
  {
   "cell_type": "code",
   "execution_count": null,
   "metadata": {},
   "outputs": [],
   "source": []
  }
 ],
 "metadata": {
  "kernelspec": {
   "display_name": "Python 3",
   "language": "python",
   "name": "python3"
  },
  "language_info": {
   "codemirror_mode": {
    "name": "ipython",
    "version": 3
   },
   "file_extension": ".py",
   "mimetype": "text/x-python",
   "name": "python",
   "nbconvert_exporter": "python",
   "pygments_lexer": "ipython3",
   "version": "3.7.6"
  }
 },
 "nbformat": 4,
 "nbformat_minor": 4
}
