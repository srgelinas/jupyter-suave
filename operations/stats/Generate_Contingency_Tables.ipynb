{
 "cells": [
  {
   "cell_type": "markdown",
   "metadata": {},
   "source": [
    "<h1><span style=\"color:red\">Generate Contingency Tables</span></h1>\n",
    "\n",
    "### This notebook reads numeric and categorical variables from the survey dataset, lets users compute a contingency table from variables of interest and test for independence."
   ]
  },
  {
   "cell_type": "markdown",
   "metadata": {},
   "source": [
    "## 1. Retrieve survey parameters from the URL"
   ]
  },
  {
   "cell_type": "code",
   "execution_count": null,
   "metadata": {},
   "outputs": [],
   "source": [
    "%%javascript\n",
    "function getQueryStringValue (key)\n",
    "{  \n",
    "    return unescape(window.location.search.replace(new RegExp(\"^(?:.*[&\\\\?]\" + escape(key).replace(/[\\.\\+\\*]/g, \"\\\\$&\") + \"(?:\\\\=([^&]*))?)?.*$\", \"i\"), \"$1\"));\n",
    "}\n",
    "IPython.notebook.kernel.execute(\"survey_url='\".concat(getQueryStringValue(\"surveyurl\")).concat(\"'\"));\n",
    "IPython.notebook.kernel.execute(\"views='\".concat(getQueryStringValue(\"views\")).concat(\"'\"));\n",
    "IPython.notebook.kernel.execute(\"view='\".concat(getQueryStringValue(\"view\")).concat(\"'\"));\n",
    "IPython.notebook.kernel.execute(\"user='\".concat(getQueryStringValue(\"user\")).concat(\"'\"));\n",
    "IPython.notebook.kernel.execute(\"csv_file='\".concat(getQueryStringValue(\"csv\")).concat(\"'\")); \n",
    "IPython.notebook.kernel.execute(\"dzc_file='\".concat(getQueryStringValue(\"dzc\")).concat(\"'\")); \n",
    "IPython.notebook.kernel.execute(\"params='\".concat(getQueryStringValue(\"params\")).concat(\"'\")); \n",
    "IPython.notebook.kernel.execute(\"active_object='\".concat(getQueryStringValue(\"activeobject\")).concat(\"'\")); \n",
    "IPython.notebook.kernel.execute(\"full_notebook_url='\" + window.location + \"'\"); "
   ]
  },
  {
   "cell_type": "code",
   "execution_count": null,
   "metadata": {},
   "outputs": [],
   "source": [
    "# common imports\n",
    "from __future__ import print_function\n",
    "from ipywidgets import interact, interactive, fixed, interact_manual\n",
    "import ipywidgets as widgets\n",
    "from IPython.display import Markdown, display\n",
    "\n",
    "import datetime\n",
    "import pandas as pd    \n",
    "import numpy as np\n",
    "import panel as pn\n",
    "import statsmodels.api as sm\n",
    "import statsmodels.formula.api as smf\n",
    "import matplotlib.pyplot as plt\n",
    "\n",
    "pn.extension()\n",
    "def printmd(string):\n",
    "    display(Markdown(string))\n",
    "\n",
    "absolutePath = \"../../temp_csvs/\"\n",
    "\n",
    "# local imports\n",
    "import sys\n",
    "sys.path.insert(1, '../../helpers')\n",
    "import panel_libs as panellibs\n",
    "import suave_integration as suaveint"
   ]
  },
  {
   "cell_type": "markdown",
   "metadata": {},
   "source": [
    "## 2. Read the survey file"
   ]
  },
  {
   "cell_type": "code",
   "execution_count": null,
   "metadata": {},
   "outputs": [],
   "source": [
    "# read the csv file\n",
    "df = panellibs.extract_data(absolutePath + csv_file)\n",
    "\n",
    "# create a list of variable names\n",
    "variables_df = pd.DataFrame({'varname':df.columns})\n",
    "printmd(\"<b><span style='color:red'>All variables in the survey file:</span></b>\")\n",
    "print(variables_df.varname.values)"
   ]
  },
  {
   "cell_type": "markdown",
   "metadata": {},
   "source": [
    "## 3. Select variables from survey"
   ]
  },
  {
   "cell_type": "code",
   "execution_count": null,
   "metadata": {},
   "outputs": [],
   "source": [
    "# select number of variables for contingency table\n",
    "n_row = pn.widgets.IntSlider(name='Select Number of Row Variables',start=1, end=2, value=1)\n",
    "n_col = pn.widgets.IntSlider(name='Select Number of Column Variables',start=1, end=2, value=1)\n",
    "\n",
    "pn.Column(n_row, n_col)"
   ]
  },
  {
   "cell_type": "code",
   "execution_count": null,
   "metadata": {},
   "outputs": [],
   "source": [
    "# select variables from survey\n",
    "row_vars = pn.widgets.MultiChoice(name='Select Row Variables for Contingency Table',\n",
    "                                  value=[], options=list(df.columns), max_items=n_row.value)\n",
    "col_vars = pn.widgets.MultiChoice(name='Select Column Variables for Contingency Table',\n",
    "                                  value=[], options=list(df.columns), max_items=n_col.value)\n",
    "pn.Row(row_vars, col_vars, height=350)"
   ]
  },
  {
   "cell_type": "markdown",
   "metadata": {},
   "source": [
    "## 4. Bin Numerical and Date Variables"
   ]
  },
  {
   "cell_type": "markdown",
   "metadata": {},
   "source": [
    "Create custom bins for numerical and date variables, or skip to the next step."
   ]
  },
  {
   "cell_type": "markdown",
   "metadata": {},
   "source": [
    "<h3><span style=\"color:red\">(OPTIONAL) Set custom bins for numerical variables:</span></h3>"
   ]
  },
  {
   "cell_type": "code",
   "execution_count": null,
   "metadata": {},
   "outputs": [],
   "source": [
    "# select numerical columns to bin -- **unselected columns will be automatically binned into 5 equal bins**\n",
    "df = df.apply(pd.to_numeric, errors='ignore')\n",
    "df = df.dropna(axis=1, how='all')\n",
    "op = [i for i in list(df.columns) if '#number' in i]\n",
    "binnable = pn.widgets.MultiChoice(name='Select Columns to Bin: ', options=op, height=350)\n",
    "binnable"
   ]
  },
  {
   "cell_type": "code",
   "execution_count": null,
   "metadata": {},
   "outputs": [],
   "source": [
    "# set custom bins for a numeric (#number) variable\n",
    "next_var = pn.widgets.Button(name='Continue to Next Variable', button_type='success')\n",
    "first_col = binnable.value[next_var.clicks]\n",
    "selected_bins = [[] for i in binnable.value]\n",
    "\n",
    "text = pn.widgets.TextInput(name='Current Variable: ', value=first_col, disabled=True)\n",
    "num = pn.widgets.Select(name='Select number of bins', options=[i+1 for i in range(5)])\n",
    "next_bin = pn.widgets.Button(name='Next Bin', button_type='primary')\n",
    "bin_range = pn.widgets.RangeSlider(name='Select Range for Bin #1',\n",
    "                                   start=df[first_col].min(), end=df[first_col].max(),\n",
    "                                   value=(df[first_col].min(), df[first_col].max()), step=2)\n",
    "\n",
    "def plot_histogram(df, column, plotting_pane, x_range=None):\n",
    "    \"\"\"\n",
    "    Helper function to plot histogram of a numeric variable\n",
    "    in the provided x_range onto the panel plotting pane.\n",
    "    \"\"\"\n",
    "    fig, ax = plt.subplots(1,1)\n",
    "    df[column].plot.hist(bins=50, ax=ax, title = 'Histogram of: ' + column, xlim=x_range)\n",
    "    ax.set_xlabel(column)\n",
    "    plotting_pane.object = fig\n",
    "    plt.close()\n",
    "\n",
    "def b(event):\n",
    "    \"\"\"\n",
    "    Updates bin sliders when \"next\" is clicked\n",
    "    \"\"\"\n",
    "    if next_bin.clicks == 0:\n",
    "        return\n",
    "    \n",
    "    selected_col = binnable.value[next_var.clicks]\n",
    "\n",
    "    if next_bin.clicks < num.value:\n",
    "        bin_range.name = 'Select Range for Bin #' + str(next_bin.clicks + 1)\n",
    "        selected_bins[next_var.clicks].append(bin_range.value)\n",
    "        bin_range.start = bin_range.value[1]\n",
    "        bin_range.value = (bin_range.value[1], df[selected_col].max())\n",
    "        plot_histogram(df, selected_col, plot, x_range = bin_range.value)\n",
    "    else:\n",
    "        selected_bins[next_var.clicks].append(bin_range.value)\n",
    "        next_bin.disabled = True\n",
    "        \n",
    "        if selected_col != binnable.value[-1]:\n",
    "            layout[0][4] = next_var\n",
    "        else:\n",
    "            layout[0][4] = \"Variable Binning Complete!\"\n",
    "\n",
    "def c(event):\n",
    "    \"\"\"\n",
    "    Resets layout when \"continue\" is clicked\n",
    "    \"\"\"\n",
    "    next_bin.clicks = 0\n",
    "    next_col = binnable.value[next_var.clicks] \n",
    "    text.value = next_col\n",
    "    num.value = 1\n",
    "    bin_range.start = df[next_col].min()\n",
    "    bin_range.end = df[next_col].max()\n",
    "    bin_range.value = (df[next_col].min(), df[next_col].max())\n",
    "    next_bin.disabled = False\n",
    "    layout[0][4] = \"\"\n",
    "    plot_histogram(df, next_col, plot)\n",
    "\n",
    "next_bin.on_click(b)\n",
    "next_var.on_click(c)\n",
    "plot =  pn.pane.Matplotlib(dpi=80)\n",
    "plot_histogram(df, binnable.value[next_var.clicks], plot)\n",
    "layout = pn.Row(pn.Column(text, num, bin_range, next_bin, \"\"), plot)\n",
    "layout"
   ]
  },
  {
   "cell_type": "code",
   "execution_count": null,
   "metadata": {},
   "outputs": [],
   "source": [
    "# bin each column with chosen bins\n",
    "cols = binnable.value\n",
    "for col, bins in list(zip(cols, selected_bins)):\n",
    "    bins = pd.IntervalIndex.from_tuples(bins, closed='left')\n",
    "    df[col] = pd.cut(df[col], bins)\n",
    "    \n",
    "# bin remaining numeric columns into 5 equal bins\n",
    "remainder = list(set(binnable.options) - set(binnable.value))\n",
    "df[remainder] = df[remainder].apply(pd.cut, bins=5)"
   ]
  },
  {
   "cell_type": "markdown",
   "metadata": {},
   "source": [
    "<h3><span style=\"color:red\">(OPTIONAL) Set custom bins for date variables:</span></h3>"
   ]
  },
  {
   "cell_type": "code",
   "execution_count": null,
   "metadata": {},
   "outputs": [],
   "source": [
    "# convert date variables in survey\n",
    "dates = [i for i in list(df.columns) if '#date' in i]\n",
    "df[dates] = df[dates].apply(pd.to_datetime, errors='coerce')\n",
    "df[dates] = df[dates].apply(lambda x: x.dt.date)\n",
    "d_max = pd.Series(df[dates].to_numpy().flatten()).dropna().max()\n",
    "d_min = pd.Series(df[dates].to_numpy().flatten()).dropna().min()\n",
    "\n",
    "# define bins for all date variables\n",
    "date_bins = []\n",
    "date_slider = pn.widgets.DateRangeSlider(name='Date Range for Bin #1 ', start=d_min, end=d_max, value=(d_min,d_max))\n",
    "next_bin2 = pn.widgets.Button(name='Next Bin', button_type='primary')\n",
    "num = pn.widgets.Select(name='Select number of bins', options=[i+1 for i in range(5)])\n",
    "\n",
    "def d(event):\n",
    "    \"\"\"\n",
    "    Updates bin sliders when \"next\" is clicked\n",
    "    \"\"\"\n",
    "    if next_bin2.clicks < num.value:\n",
    "        date_slider.name = 'Date Range for Bin #' + str(next_bin2.clicks + 1)\n",
    "        date_bins.append(date_slider.value)\n",
    "        date_slider.start = date_slider.value[1]\n",
    "        date_slider.value = (date_slider.value[1], datetime.datetime(d_max.year, d_max.month, d_max.day))\n",
    "        plot_dates(df, plot)\n",
    "    else:\n",
    "        date_bins.append(date_slider.value)\n",
    "        next_bin2.disabled = True\n",
    "        layout2[0][3] = 'Date Binning Complete!'\n",
    "        \n",
    "def plot_dates(df, plotting_pane):\n",
    "    \"\"\"\n",
    "    Plots dates based on slider selection to the plotting pane.\n",
    "    \"\"\"\n",
    "    all_dates = pd.DataFrame(df[dates].to_numpy().flatten(), columns=['date'])\n",
    "    filtered = all_dates[(all_dates['date'] >= pd.Timestamp(date_slider.value[0]))]\n",
    "    if len(filtered) == 0:\n",
    "        fig, ax = fig, ax = plt.subplots(1,1)\n",
    "        all_dates.groupby('date').size().plot(kind='bar', ax=ax)\n",
    "        num = 20\n",
    "    else:\n",
    "        fig, ax = fig, ax = plt.subplots(1,1)\n",
    "        filtered.groupby('date').size().plot(kind='bar', ax=ax)\n",
    "        if len(filtered.groupby('date').size()) > 20:\n",
    "            num = int(len(filtered.groupby('date').size())/15)\n",
    "        else:\n",
    "            num = 1\n",
    "    ax.set_xticks(ax.get_xticks()[::num])\n",
    "    ax.set_ylabel('Frequency');\n",
    "    for tick in ax.get_xticklabels():\n",
    "        tick.set_rotation(70)\n",
    "    plotting_pane.object = fig\n",
    "    plt.close()\n",
    "\n",
    "next_bin2.on_click(d)\n",
    "plot =  pn.pane.Matplotlib(dpi=80, tight=True)\n",
    "plot_dates(df, plot)\n",
    "layout2 = pn.Row(pn.Column(num, date_slider, next_bin2, \"\"), plot)\n",
    "layout2"
   ]
  },
  {
   "cell_type": "code",
   "execution_count": null,
   "metadata": {},
   "outputs": [],
   "source": [
    "# convert selected bins to binning intervals\n",
    "bins = pd.interval_range(start=pd.Timestamp(datetime.date(date_bins[0][0].year, date_bins[0][0].month, date_bins[0][0].day)),\n",
    "                         end=pd.Timestamp(datetime.date(date_bins[0][1].year, date_bins[0][1].month, date_bins[0][1].day)),\n",
    "                         periods=1)\n",
    "\n",
    "for d_bin in date_bins[1:]:\n",
    "    out = (datetime.date(d_bin[0].year, d_bin[0].month, d_bin[0].day),\n",
    "           datetime.date(d_bin[1].year, d_bin[1].month, d_bin[1].day))\n",
    "    interval = pd.interval_range(start=pd.Timestamp(out[0]), end=pd.Timestamp(out[1]), periods=1)\n",
    "    bins = bins.append(interval)\n",
    "    \n",
    "# convert dates to date ranges\n",
    "for d in dates:\n",
    "    df[d] = df[d].apply(pd.Timestamp)\n",
    "    df[d] = pd.cut(df[d], bins=bins)"
   ]
  },
  {
   "cell_type": "markdown",
   "metadata": {},
   "source": [
    "## 4. Generate contingency table"
   ]
  },
  {
   "cell_type": "code",
   "execution_count": null,
   "metadata": {},
   "outputs": [],
   "source": [
    "def generate_table(df, row_variables, column_variables):\n",
    "    \"\"\"\n",
    "    Helper function to generate a contingency table from the input dataframe\n",
    "    with a given list of row_variables and column_variables.\n",
    "    \"\"\"\n",
    "    tab = pd.crosstab([df[row_variables[i]] for i in range(len(row_variables))],\n",
    "                      [df[column_variables[i]] for i in range(len(column_variables))])\n",
    "    table = sm.stats.Table(tab)\n",
    "    return table.table_orig, table"
   ]
  },
  {
   "cell_type": "code",
   "execution_count": null,
   "metadata": {},
   "outputs": [],
   "source": [
    "# generate contingency table\n",
    "df['freq'] = 1\n",
    "selected_row_vars = row_vars.value\n",
    "selected_col_vars = col_vars.value\n",
    "tab = generate_table(df, selected_row_vars, selected_col_vars)\n",
    "tab[0]"
   ]
  },
  {
   "cell_type": "code",
   "execution_count": null,
   "metadata": {},
   "outputs": [],
   "source": [
    "# denote shape of contingency table as two-way, three-way, or multi-way\n",
    "table_shape = None\n",
    "total_vars = len(row_vars.value + col_vars.value)\n",
    "if total_vars == 2:\n",
    "    table_shape = 'two-way'\n",
    "elif total_vars == 3:\n",
    "    table_shape = 'three-way'\n",
    "else:\n",
    "    table_shape = 'multi-way'\n",
    "table_shape"
   ]
  },
  {
   "cell_type": "markdown",
   "metadata": {},
   "source": [
    "## 5. Test for mutual independence"
   ]
  },
  {
   "cell_type": "markdown",
   "metadata": {},
   "source": [
    "For one-way tables conduct a chi-square test of independence, under the null hypothesis that the two variables of interest are independent. For three-way and multi-way tables, fit a log-linear model to test for mutual independence between all variables of interest.  "
   ]
  },
  {
   "cell_type": "code",
   "execution_count": null,
   "metadata": {},
   "outputs": [],
   "source": [
    "def chi_square(table, alpha=.05):\n",
    "    \"\"\"\n",
    "    Performs a chi-square test of independence in a\n",
    "    two-way contingency table at the given significance level\n",
    "    \"\"\"\n",
    "    chi2 = table.test_nominal_association()\n",
    "    \n",
    "    # display a warning if expected counts are < 5\n",
    "    exp_freq = table.fittedvalues.to_numpy()\n",
    "    if (exp_freq < 5).sum() != 0:\n",
    "        print(\"Warning: table contains expected frequencies less than 5.\")\n",
    "\n",
    "    # display results of chi-square test\n",
    "    p_val = chi2.pvalue\n",
    "    if p_val < alpha:\n",
    "        print(\"P-value: {}. Table variables are associated at significance level: {}\".format(p_val.round(4), alpha))\n",
    "    else:\n",
    "        print(\"P-value: {}. Table variables are independent at significance level: {}\".format(p_val.round(4), alpha))\n",
    "        \n",
    "        \n",
    "def llm_mutual(flat_table):\n",
    "    \"\"\"\n",
    "    Performs log-linear analysis of the flattened multi-way\n",
    "    contingency table using Poisson regression for mutual independence.\n",
    "    \"\"\"\n",
    "    # remove suave tags from column names (interferes with statsmodels api)\n",
    "    df_2 = flat_table.copy()\n",
    "    df_2.columns = [i.split('#')[0].replace(' ', '_') for i in flat_table.columns]\n",
    "    \n",
    "    # define predictor and response variables\n",
    "    predictors = (' + ').join([i.split('#')[0].replace(' ', '_') for i in row_vars.value + col_vars.value])\n",
    "    response = 'freq'\n",
    "    \n",
    "    # fit model\n",
    "    glm = smf.glm(response + ' ~ ' + predictors, data=df_2, family=sm.families.Poisson())\n",
    "    res_o = glm.fit()\n",
    "    print(res_o.summary())\n",
    "    return res_o"
   ]
  },
  {
   "cell_type": "code",
   "execution_count": null,
   "metadata": {},
   "outputs": [],
   "source": [
    "# perform chi-square test of independence for two-way tables\n",
    "if table_shape == 'two-way':\n",
    "    result = chi_square(tab[1])\n",
    "# perform log-linear analysis for three-way and multi-way tables\n",
    "else:\n",
    "    flat = df.groupby(col_vars.value + row_vars.value).sum()['freq'].to_frame().reset_index()\n",
    "    result = llm_mutual(flat)\n",
    "result"
   ]
  },
  {
   "cell_type": "markdown",
   "metadata": {},
   "source": [
    "<h2><span style=\"color:red\">5a. Optional: Test for joint independence</span></h2>"
   ]
  },
  {
   "cell_type": "markdown",
   "metadata": {},
   "source": [
    "<span style=\"color:red\">The following log-linear models are for testing THREE-WAY tables only!</span> "
   ]
  },
  {
   "cell_type": "markdown",
   "metadata": {},
   "source": [
    "For three-way tables, test variables for joint-independence. The log-linear model tests for joint independence under the assumption that a single variable of interest is independent of the other two. The model implies that other two variables can have an arbitrary association, and that this association doesn't depend on the level of the variable of interest."
   ]
  },
  {
   "cell_type": "code",
   "execution_count": null,
   "metadata": {},
   "outputs": [],
   "source": [
    "# select a variable to test for joint indpendence\n",
    "selector = pn.widgets.Select(name='Test joint indpedence of: ', options=col_vars.value + row_vars.value)\n",
    "selector"
   ]
  },
  {
   "cell_type": "code",
   "execution_count": null,
   "metadata": {},
   "outputs": [],
   "source": [
    "def llm_joint(flat_table):\n",
    "    \"\"\"\n",
    "    Performs log-linear analysis of the flattened multi-way\n",
    "    contingency table using Poisson regression for joint independence.\n",
    "    \"\"\"\n",
    "    # remove suave tags from column names (interferes with statsmodels api)\n",
    "    df_2 = flat_table.copy()\n",
    "    df_2.columns = [i.split('#')[0].replace(' ', '_') for i in flat_table.columns]\n",
    "    \n",
    "    # define predictor and response variables\n",
    "    var = row_vars.value + col_vars.value\n",
    "    var.remove(selector.value)\n",
    "    selected_var = selector.value.split('#')[0].replace(' ', '_')\n",
    "    predictors = [i.split('#')[0].replace(' ', '_') for i in var]\n",
    "    formula = 'freq ~ ' + selected_var + ' + ' + predictors[0] + ' + ' + predictors[1] + ' + ' + \\\n",
    "                predictors[0] + ' * ' + predictors[1]\n",
    "    print('Model: ' + formula)\n",
    "    \n",
    "    # fit model\n",
    "    glm = smf.glm(formula, data=df_2, family=sm.families.Poisson())\n",
    "    res_o = glm.fit()\n",
    "    return res_o"
   ]
  },
  {
   "cell_type": "code",
   "execution_count": null,
   "metadata": {},
   "outputs": [],
   "source": [
    "if table_shape == 'three-way':\n",
    "    flat = df.groupby(col_vars.value + row_vars.value).sum()['freq'].to_frame().reset_index()\n",
    "    result = llm_joint(flat)\n",
    "result.summary()"
   ]
  },
  {
   "cell_type": "markdown",
   "metadata": {},
   "source": [
    "<h2><span style=\"color:red\">5b. Optional: Test for conditional independence</span></h2>"
   ]
  },
  {
   "cell_type": "markdown",
   "metadata": {},
   "source": [
    "For three-way tables, test variables for conditional independence. The log-linear model tests for conditional indpendence under the asumption that two variables are independent, given the third."
   ]
  },
  {
   "cell_type": "code",
   "execution_count": null,
   "metadata": {},
   "outputs": [],
   "source": [
    "# select a variable to condition the independence of the remaining variables\n",
    "selector = pn.widgets.Select(name='Test if variables are indepndent given: ', options=col_vars.value + row_vars.value)\n",
    "selector"
   ]
  },
  {
   "cell_type": "code",
   "execution_count": null,
   "metadata": {},
   "outputs": [],
   "source": [
    "def llm_conditional(flat_table):\n",
    "    \"\"\"\n",
    "    Performs log-linear analysis of the flattened multi-way\n",
    "    contingency table using Poisson regression for conditional independence.\n",
    "    \"\"\"\n",
    "    # remove suave tags from column names (interferes with statsmodels api)\n",
    "    df_2 = flat_table.copy()\n",
    "    df_2.columns = [i.split('#')[0].replace(' ', '_') for i in flat_table.columns]\n",
    "    \n",
    "    # define predictor and response variables\n",
    "    var = row_vars.value + col_vars.value\n",
    "    var.remove(selector.value)\n",
    "    selected_var = selector.value.split('#')[0].replace(' ', '_')\n",
    "    predictors = [i.split('#')[0].replace(' ', '_') for i in var]\n",
    "    formula = 'freq ~ ' + selected_var + ' + ' + predictors[0] + ' + ' + predictors[1] + ' + ' + \\\n",
    "                predictors[0] + ' * ' + selected_var + '+ ' + predictors[1] +  ' * ' + selected_var\n",
    "    print('Model: ' + formula)\n",
    "    \n",
    "    # fit model\n",
    "    glm = smf.glm(formula, data=df_2, family=sm.families.Poisson())\n",
    "    res_o = glm.fit()\n",
    "    return res_o"
   ]
  },
  {
   "cell_type": "code",
   "execution_count": null,
   "metadata": {},
   "outputs": [],
   "source": [
    "if table_shape == 'three-way':\n",
    "    flat = df.groupby(col_vars.value + row_vars.value).sum()['freq'].to_frame().reset_index()\n",
    "    result = llm_conditional(flat)\n",
    "result.summary()"
   ]
  },
  {
   "cell_type": "markdown",
   "metadata": {},
   "source": [
    "<h2><span style=\"color:red\">5c. Optional: Test for homogeneous association</span></h2>"
   ]
  },
  {
   "cell_type": "markdown",
   "metadata": {},
   "source": [
    "For three-way tables, test for homogeneous association between the variables. The log-linear model, or no three-factor interaction model, tests for homogeneous association and implies that the conditional reelationship between any pair of variables given the third is the same at each level of the third variable."
   ]
  },
  {
   "cell_type": "code",
   "execution_count": null,
   "metadata": {},
   "outputs": [],
   "source": [
    "def llm_association(flat_table):\n",
    "    \"\"\"\n",
    "    Performs log-linear analysis of the flattened multi-way\n",
    "    contingency table using Poisson regression for homogeneous association.\n",
    "    \"\"\"\n",
    "    # remove suave tags from column names (interferes with statsmodels api)\n",
    "    df_2 = flat_table.copy()\n",
    "    df_2.columns = [i.split('#')[0].replace(' ', '_') for i in flat_table.columns]\n",
    "    \n",
    "    # define predictor and response variables\n",
    "    predictors = (' + ').join([i.split('#')[0].replace(' ', '_') for i in row_vars.value + col_vars.value])\n",
    "    formula = 'freq ~ (' + predictors + ')**2'\n",
    "    print('Model: ' + formula)\n",
    "    \n",
    "    # fit model\n",
    "    glm = smf.glm(formula, data=df_2, family=sm.families.Poisson())\n",
    "    res_o = glm.fit()\n",
    "    return res_o"
   ]
  },
  {
   "cell_type": "code",
   "execution_count": null,
   "metadata": {},
   "outputs": [],
   "source": [
    "if table_shape == 'three-way':\n",
    "    flat = df.groupby(col_vars.value + row_vars.value).sum()['freq'].to_frame().reset_index()\n",
    "    result = llm_association(flat)\n",
    "result.summary()"
   ]
  }
 ],
 "metadata": {
  "kernelspec": {
   "display_name": "Python 3",
   "language": "python",
   "name": "python3"
  },
  "language_info": {
   "codemirror_mode": {
    "name": "ipython",
    "version": 3
   },
   "file_extension": ".py",
   "mimetype": "text/x-python",
   "name": "python",
   "nbconvert_exporter": "python",
   "pygments_lexer": "ipython3",
   "version": "3.7.6"
  }
 },
 "nbformat": 4,
 "nbformat_minor": 4
}
