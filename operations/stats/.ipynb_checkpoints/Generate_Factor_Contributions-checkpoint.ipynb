{
 "cells": [
  {
   "cell_type": "markdown",
   "metadata": {},
   "source": [
    "<h1><span style=\"color:red\">Generate Factor Contributions</span></h1>\n",
    "\n",
    "### This notebook reads numeric and categorical variables from the survey dataset and computes factor contributions for all levels of the variables in the survey dataset."
   ]
  },
  {
   "cell_type": "markdown",
   "metadata": {},
   "source": [
    "## 1. Retrieve survey parameters from the URL"
   ]
  },
  {
   "cell_type": "code",
   "execution_count": null,
   "metadata": {},
   "outputs": [],
   "source": [
    "%%javascript\n",
    "function getQueryStringValue (key)\n",
    "{  \n",
    "    return unescape(window.location.search.replace(new RegExp(\"^(?:.*[&\\\\?]\" + escape(key).replace(/[\\.\\+\\*]/g, \"\\\\$&\") + \"(?:\\\\=([^&]*))?)?.*$\", \"i\"), \"$1\"));\n",
    "}\n",
    "IPython.notebook.kernel.execute(\"survey_url='\".concat(getQueryStringValue(\"surveyurl\")).concat(\"'\"));\n",
    "IPython.notebook.kernel.execute(\"views='\".concat(getQueryStringValue(\"views\")).concat(\"'\"));\n",
    "IPython.notebook.kernel.execute(\"view='\".concat(getQueryStringValue(\"view\")).concat(\"'\"));\n",
    "IPython.notebook.kernel.execute(\"user='\".concat(getQueryStringValue(\"user\")).concat(\"'\"));\n",
    "IPython.notebook.kernel.execute(\"csv_file='\".concat(getQueryStringValue(\"csv\")).concat(\"'\")); \n",
    "IPython.notebook.kernel.execute(\"dzc_file='\".concat(getQueryStringValue(\"dzc\")).concat(\"'\")); \n",
    "IPython.notebook.kernel.execute(\"params='\".concat(getQueryStringValue(\"params\")).concat(\"'\")); \n",
    "IPython.notebook.kernel.execute(\"active_object='\".concat(getQueryStringValue(\"activeobject\")).concat(\"'\")); \n",
    "IPython.notebook.kernel.execute(\"full_notebook_url='\" + window.location + \"'\"); "
   ]
  },
  {
   "cell_type": "code",
   "execution_count": null,
   "metadata": {},
   "outputs": [],
   "source": [
    "# common imports\n",
    "from __future__ import print_function\n",
    "from ipywidgets import interact, interactive, fixed, interact_manual\n",
    "import ipywidgets as widgets\n",
    "from IPython.display import Markdown, display\n",
    "from ipyfilechooser import FileChooser\n",
    "\n",
    "import pandas as pd    \n",
    "import panel as pn\n",
    "import numpy as np\n",
    "\n",
    "pn.extension()\n",
    "def printmd(string):\n",
    "    display(Markdown(string))\n",
    "\n",
    "absolutePath = \"../../temp_csvs/\"\n",
    "\n",
    "# local imports\n",
    "import sys\n",
    "sys.path.insert(1, '../../helpers')\n",
    "import panel_libs as panellibs\n",
    "import suave_integration as suaveint"
   ]
  },
  {
   "cell_type": "markdown",
   "metadata": {},
   "source": [
    "## 2. Read the survey file"
   ]
  },
  {
   "cell_type": "code",
   "execution_count": null,
   "metadata": {},
   "outputs": [],
   "source": [
    "# read the csv file\n",
    "df = panellibs.extract_data(absolutePath + csv_file)\n",
    "\n",
    "# create a list of variable names\n",
    "variables_df = pd.DataFrame({'varname':df.columns})\n",
    "printmd(\"<b><span style='color:red'>All variables in the survey file:</span></b>\")\n",
    "print(variables_df.varname.values)"
   ]
  },
  {
   "cell_type": "code",
   "execution_count": null,
   "metadata": {},
   "outputs": [],
   "source": [
    "df.head()"
   ]
  },
  {
   "cell_type": "markdown",
   "metadata": {},
   "source": [
    "## 3. Generate Factor Contributions"
   ]
  },
  {
   "cell_type": "code",
   "execution_count": null,
   "metadata": {},
   "outputs": [],
   "source": [
    "# bin numerical columns in survey dataframe\n",
    "df_binned = df.apply(pd.to_numeric, errors='ignore')\n",
    "numeric_cols = df_binned.select_dtypes(include=np.number).columns.tolist()\n",
    "df_binned[numeric_cols] = df_binned[numeric_cols].apply(pd.cut, bins=5)"
   ]
  },
  {
   "cell_type": "code",
   "execution_count": null,
   "metadata": {},
   "outputs": [],
   "source": [
    "# OPTIONAL: if survey has #img and #name columns, remove them\n",
    "df_binned.drop(columns=['#img', '#name'], inplace=True)\n",
    "\n",
    "# OPTIONAL: if survey has columns with #date or #hidden, remove them\n",
    "date_cols = [i for i in list(df_binned.columns) if '#date' in i or '#hidden' in i]\n",
    "df_binned.drop(columns=date_cols, inplace=True)"
   ]
  },
  {
   "cell_type": "code",
   "execution_count": null,
   "metadata": {},
   "outputs": [],
   "source": [
    "# helper functions\n",
    "def find_unique(var):\n",
    "    \"\"\"\n",
    "    Helper function to return all unique entries for #multi survey variables\n",
    "    \"\"\"\n",
    "    arr = df[var].unique()\n",
    "    all_entries = set()\n",
    "    for i in range(len(arr)):\n",
    "        if arr[i] != arr[i]:\n",
    "            continue\n",
    "        if (i != 0) and ('|' in arr[i]):\n",
    "            arr[i] = arr[i].split('|')\n",
    "            for j in arr[i]:\n",
    "                all_entries.add(j)\n",
    "        else:\n",
    "            all_entries.add(arr[i])\n",
    "    all_entries = list(all_entries)\n",
    "    return all_entries\n",
    "\n",
    "def find_factor_contributions(var, filter_vars):\n",
    "    \"\"\"\n",
    "    Helper function to find all the factor contributions from\n",
    "    a list of filter variables to the levels of the variable of interest.\n",
    "    \"\"\"\n",
    "    out = {var: {}}\n",
    "    \n",
    "    for f in filter_vars:\n",
    "        if var == f:\n",
    "            continue\n",
    "                    \n",
    "        x_levels = df_binned[var].value_counts().index.to_list()\n",
    "        if '#multi' in f:\n",
    "            a_levels = find_unique(f)\n",
    "        else:\n",
    "            a_levels = df_binned[f].value_counts().index.to_list()\n",
    "\n",
    "        for i in x_levels:\n",
    "            if (var + '_' + str(i)) not in out[var].keys():\n",
    "                out[var][var + '_' + str(i)] = {}\n",
    "            for j in a_levels:\n",
    "                x_prop = df_binned[df_binned[var]==i].shape[0]/df.shape[0]\n",
    "                a_count = df_binned[df_binned[f]==j].shape[0]\n",
    "                ax_count = df_binned[(df_binned[f]==j) & (df[var]==i)].shape[0]\n",
    "                try:\n",
    "                    ax_prop = ax_count/a_count\n",
    "                except:\n",
    "                    ax_prop = 0\n",
    "                contribution = (ax_prop - x_prop)*100\n",
    "                out[var][var + '_' + str(i)][f + '_' + str(j)] = contribution\n",
    "                \n",
    "    return out"
   ]
  },
  {
   "cell_type": "code",
   "execution_count": null,
   "metadata": {},
   "outputs": [],
   "source": [
    "# select a variable of interest to generate factor contributions\n",
    "selector = pn.widgets.Select(name='Select a variable to investigate: ', options=list(df_binned.columns))\n",
    "selector"
   ]
  },
  {
   "cell_type": "code",
   "execution_count": null,
   "metadata": {},
   "outputs": [],
   "source": [
    "# generate factor contributions: \n",
    "#     **will take approxiamtely 30 seconds to run**\n",
    "#     (based on survey size, and number of unique levels for variables)\n",
    "contributions = find_factor_contributions(selector.value, list(df_binned.columns))"
   ]
  },
  {
   "cell_type": "markdown",
   "metadata": {},
   "source": [
    "## 4. Analyze Factor Contributions"
   ]
  },
  {
   "cell_type": "code",
   "execution_count": null,
   "metadata": {},
   "outputs": [],
   "source": [
    "# sort contributions\n",
    "def sort_contributions(dictionary, ascending=True):\n",
    "    \"\"\"\n",
    "    Helper function to sort dictionary by values in ascending/descending order\n",
    "    \"\"\"\n",
    "    out_dict = dictionary[selector.value]\n",
    "    for key in out_dict.keys():\n",
    "        out_dict[key] = {k: v for k, v in sorted(out_dict[key].items(), key=lambda x: x[1], reverse=ascending)}\n",
    "    return out_dict"
   ]
  },
  {
   "cell_type": "code",
   "execution_count": null,
   "metadata": {},
   "outputs": [],
   "source": [
    "# find largest contributions to each level of the selected variable of interest\n",
    "out_dict = sort_contributions(contributions)"
   ]
  },
  {
   "cell_type": "code",
   "execution_count": null,
   "metadata": {},
   "outputs": [],
   "source": [
    "# investigate levels of variable of interest\n",
    "level = pn.widgets.Select(name = 'Select a level to analyze:',options=list(out_dict.keys()))\n",
    "level"
   ]
  },
  {
   "cell_type": "code",
   "execution_count": null,
   "metadata": {},
   "outputs": [],
   "source": [
    "# output factor contributions to specified variable level\n",
    "out_dict[level.value]"
   ]
  }
 ],
 "metadata": {
  "kernelspec": {
   "display_name": "Python 3",
   "language": "python",
   "name": "python3"
  },
  "language_info": {
   "codemirror_mode": {
    "name": "ipython",
    "version": 3
   },
   "file_extension": ".py",
   "mimetype": "text/x-python",
   "name": "python",
   "nbconvert_exporter": "python",
   "pygments_lexer": "ipython3",
   "version": "3.7.6"
  }
 },
 "nbformat": 4,
 "nbformat_minor": 4
}
