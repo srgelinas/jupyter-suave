{
 "cells": [
  {
   "cell_type": "markdown",
   "metadata": {},
   "source": [
    "<h1><span style=\"color:red\">Generate Factor Contributions</span></h1>\n",
    "\n",
    "### This notebook reads numeric and categorical variables from the survey dataset and computes factor contributions for all levels of the variables in the survey dataset."
   ]
  },
  {
   "cell_type": "markdown",
   "metadata": {},
   "source": [
    "## 1. Retrieve survey parameters from the URL"
   ]
  },
  {
   "cell_type": "code",
   "execution_count": null,
   "metadata": {},
   "outputs": [],
   "source": [
    "%%javascript\n",
    "function getQueryStringValue (key)\n",
    "{  \n",
    "    return unescape(window.location.search.replace(new RegExp(\"^(?:.*[&\\\\?]\" + escape(key).replace(/[\\.\\+\\*]/g, \"\\\\$&\") + \"(?:\\\\=([^&]*))?)?.*$\", \"i\"), \"$1\"));\n",
    "}\n",
    "IPython.notebook.kernel.execute(\"survey_url='\".concat(getQueryStringValue(\"surveyurl\")).concat(\"'\"));\n",
    "IPython.notebook.kernel.execute(\"views='\".concat(getQueryStringValue(\"views\")).concat(\"'\"));\n",
    "IPython.notebook.kernel.execute(\"view='\".concat(getQueryStringValue(\"view\")).concat(\"'\"));\n",
    "IPython.notebook.kernel.execute(\"user='\".concat(getQueryStringValue(\"user\")).concat(\"'\"));\n",
    "IPython.notebook.kernel.execute(\"csv_file='\".concat(getQueryStringValue(\"csv\")).concat(\"'\")); \n",
    "IPython.notebook.kernel.execute(\"dzc_file='\".concat(getQueryStringValue(\"dzc\")).concat(\"'\")); \n",
    "IPython.notebook.kernel.execute(\"params='\".concat(getQueryStringValue(\"params\")).concat(\"'\")); \n",
    "IPython.notebook.kernel.execute(\"active_object='\".concat(getQueryStringValue(\"activeobject\")).concat(\"'\")); \n",
    "IPython.notebook.kernel.execute(\"full_notebook_url='\" + window.location + \"'\"); "
   ]
  },
  {
   "cell_type": "code",
   "execution_count": null,
   "metadata": {},
   "outputs": [],
   "source": [
    "# common imports\n",
    "from __future__ import print_function\n",
    "from ipywidgets import interact, interactive, fixed, interact_manual\n",
    "import ipywidgets as widgets\n",
    "from IPython.display import Markdown, display\n",
    "from ipyfilechooser import FileChooser\n",
    "\n",
    "import pandas as pd    \n",
    "import panel as pn\n",
    "\n",
    "pn.extension()\n",
    "def printmd(string):\n",
    "    display(Markdown(string))\n",
    "\n",
    "absolutePath = \"../../temp_csvs/\"\n",
    "\n",
    "# local imports\n",
    "import sys\n",
    "sys.path.insert(1, '../../helpers')\n",
    "import panel_libs as panellibs\n",
    "import suave_integration as suaveint"
   ]
  },
  {
   "cell_type": "markdown",
   "metadata": {},
   "source": [
    "## 2. Read the survey file"
   ]
  },
  {
   "cell_type": "code",
   "execution_count": null,
   "metadata": {},
   "outputs": [],
   "source": [
    "# read the csv file\n",
    "df = panellibs.extract_data(absolutePath + csv_file)\n",
    "\n",
    "# create a list of variable names\n",
    "variables_df = pd.DataFrame({'varname':df.columns})\n",
    "printmd(\"<b><span style='color:red'>All variables in the survey file:</span></b>\")\n",
    "print(variables_df.varname.values)"
   ]
  },
  {
   "cell_type": "code",
   "execution_count": 3,
   "metadata": {},
   "outputs": [
    {
     "data": {
      "text/html": [
       "<div>\n",
       "<style scoped>\n",
       "    .dataframe tbody tr th:only-of-type {\n",
       "        vertical-align: middle;\n",
       "    }\n",
       "\n",
       "    .dataframe tbody tr th {\n",
       "        vertical-align: top;\n",
       "    }\n",
       "\n",
       "    .dataframe thead th {\n",
       "        text-align: right;\n",
       "    }\n",
       "</style>\n",
       "<table border=\"1\" class=\"dataframe\">\n",
       "  <thead>\n",
       "    <tr style=\"text-align: right;\">\n",
       "      <th></th>\n",
       "      <th>record_id</th>\n",
       "      <th>bio_sex_birth_2</th>\n",
       "      <th>gender_identity_term</th>\n",
       "      <th>race_ethn_hispanic</th>\n",
       "      <th>race_ethn_hispanic_detail_2___1</th>\n",
       "      <th>race_ethn_hispanic_detail_2___2</th>\n",
       "      <th>race_ethn_hispanic_detail_2___3</th>\n",
       "      <th>race_ethn_hispanic_detail_2___4</th>\n",
       "      <th>race_ethn_hispanic_detail_2___5</th>\n",
       "      <th>race_ethn_hispanic_detail_2___6</th>\n",
       "      <th>...</th>\n",
       "      <th>vaccine_reasons___6</th>\n",
       "      <th>vaccine_reasons___7</th>\n",
       "      <th>vaccine_reasons___8</th>\n",
       "      <th>vaccine_reasons___9</th>\n",
       "      <th>vaper_cur_stat</th>\n",
       "      <th>work_closecont</th>\n",
       "      <th>work_ppe</th>\n",
       "      <th>work_ppe_date_mdy</th>\n",
       "      <th>work_wash</th>\n",
       "      <th>zip_code</th>\n",
       "    </tr>\n",
       "  </thead>\n",
       "  <tbody>\n",
       "    <tr>\n",
       "      <th>0</th>\n",
       "      <td>Aim1_english_1</td>\n",
       "      <td>1.0</td>\n",
       "      <td>1.0</td>\n",
       "      <td>1.0</td>\n",
       "      <td>1.0</td>\n",
       "      <td>NaN</td>\n",
       "      <td>NaN</td>\n",
       "      <td>NaN</td>\n",
       "      <td>NaN</td>\n",
       "      <td>NaN</td>\n",
       "      <td>...</td>\n",
       "      <td>NaN</td>\n",
       "      <td>NaN</td>\n",
       "      <td>NaN</td>\n",
       "      <td>NaN</td>\n",
       "      <td>NaN</td>\n",
       "      <td>NaN</td>\n",
       "      <td>NaN</td>\n",
       "      <td>NaN</td>\n",
       "      <td>NaN</td>\n",
       "      <td>NaN</td>\n",
       "    </tr>\n",
       "    <tr>\n",
       "      <th>1</th>\n",
       "      <td>Aim1_english_2</td>\n",
       "      <td>1.0</td>\n",
       "      <td>1.0</td>\n",
       "      <td>1.0</td>\n",
       "      <td>NaN</td>\n",
       "      <td>NaN</td>\n",
       "      <td>NaN</td>\n",
       "      <td>1.0</td>\n",
       "      <td>NaN</td>\n",
       "      <td>NaN</td>\n",
       "      <td>...</td>\n",
       "      <td>NaN</td>\n",
       "      <td>NaN</td>\n",
       "      <td>NaN</td>\n",
       "      <td>NaN</td>\n",
       "      <td>NaN</td>\n",
       "      <td>NaN</td>\n",
       "      <td>NaN</td>\n",
       "      <td>NaN</td>\n",
       "      <td>NaN</td>\n",
       "      <td>NaN</td>\n",
       "    </tr>\n",
       "    <tr>\n",
       "      <th>2</th>\n",
       "      <td>Aim1_english_3</td>\n",
       "      <td>1.0</td>\n",
       "      <td>1.0</td>\n",
       "      <td>1.0</td>\n",
       "      <td>1.0</td>\n",
       "      <td>NaN</td>\n",
       "      <td>NaN</td>\n",
       "      <td>NaN</td>\n",
       "      <td>NaN</td>\n",
       "      <td>NaN</td>\n",
       "      <td>...</td>\n",
       "      <td>NaN</td>\n",
       "      <td>NaN</td>\n",
       "      <td>NaN</td>\n",
       "      <td>NaN</td>\n",
       "      <td>NaN</td>\n",
       "      <td>NaN</td>\n",
       "      <td>NaN</td>\n",
       "      <td>NaN</td>\n",
       "      <td>NaN</td>\n",
       "      <td>NaN</td>\n",
       "    </tr>\n",
       "    <tr>\n",
       "      <th>3</th>\n",
       "      <td>Aim1_english_4</td>\n",
       "      <td>1.0</td>\n",
       "      <td>1.0</td>\n",
       "      <td>1.0</td>\n",
       "      <td>1.0</td>\n",
       "      <td>NaN</td>\n",
       "      <td>NaN</td>\n",
       "      <td>NaN</td>\n",
       "      <td>NaN</td>\n",
       "      <td>NaN</td>\n",
       "      <td>...</td>\n",
       "      <td>NaN</td>\n",
       "      <td>NaN</td>\n",
       "      <td>NaN</td>\n",
       "      <td>NaN</td>\n",
       "      <td>NaN</td>\n",
       "      <td>NaN</td>\n",
       "      <td>NaN</td>\n",
       "      <td>NaN</td>\n",
       "      <td>NaN</td>\n",
       "      <td>NaN</td>\n",
       "    </tr>\n",
       "    <tr>\n",
       "      <th>4</th>\n",
       "      <td>Aim1_english_5</td>\n",
       "      <td>1.0</td>\n",
       "      <td>1.0</td>\n",
       "      <td>1.0</td>\n",
       "      <td>NaN</td>\n",
       "      <td>NaN</td>\n",
       "      <td>NaN</td>\n",
       "      <td>1.0</td>\n",
       "      <td>NaN</td>\n",
       "      <td>NaN</td>\n",
       "      <td>...</td>\n",
       "      <td>NaN</td>\n",
       "      <td>NaN</td>\n",
       "      <td>NaN</td>\n",
       "      <td>NaN</td>\n",
       "      <td>NaN</td>\n",
       "      <td>NaN</td>\n",
       "      <td>NaN</td>\n",
       "      <td>NaN</td>\n",
       "      <td>NaN</td>\n",
       "      <td>NaN</td>\n",
       "    </tr>\n",
       "  </tbody>\n",
       "</table>\n",
       "<p>5 rows × 255 columns</p>\n",
       "</div>"
      ],
      "text/plain": [
       "        record_id  bio_sex_birth_2  gender_identity_term  race_ethn_hispanic  \\\n",
       "0  Aim1_english_1              1.0                   1.0                 1.0   \n",
       "1  Aim1_english_2              1.0                   1.0                 1.0   \n",
       "2  Aim1_english_3              1.0                   1.0                 1.0   \n",
       "3  Aim1_english_4              1.0                   1.0                 1.0   \n",
       "4  Aim1_english_5              1.0                   1.0                 1.0   \n",
       "\n",
       "   race_ethn_hispanic_detail_2___1  race_ethn_hispanic_detail_2___2  \\\n",
       "0                              1.0                              NaN   \n",
       "1                              NaN                              NaN   \n",
       "2                              1.0                              NaN   \n",
       "3                              1.0                              NaN   \n",
       "4                              NaN                              NaN   \n",
       "\n",
       "   race_ethn_hispanic_detail_2___3  race_ethn_hispanic_detail_2___4  \\\n",
       "0                              NaN                              NaN   \n",
       "1                              NaN                              1.0   \n",
       "2                              NaN                              NaN   \n",
       "3                              NaN                              NaN   \n",
       "4                              NaN                              1.0   \n",
       "\n",
       "   race_ethn_hispanic_detail_2___5  race_ethn_hispanic_detail_2___6  ...  \\\n",
       "0                              NaN                              NaN  ...   \n",
       "1                              NaN                              NaN  ...   \n",
       "2                              NaN                              NaN  ...   \n",
       "3                              NaN                              NaN  ...   \n",
       "4                              NaN                              NaN  ...   \n",
       "\n",
       "   vaccine_reasons___6  vaccine_reasons___7  vaccine_reasons___8  \\\n",
       "0                  NaN                  NaN                  NaN   \n",
       "1                  NaN                  NaN                  NaN   \n",
       "2                  NaN                  NaN                  NaN   \n",
       "3                  NaN                  NaN                  NaN   \n",
       "4                  NaN                  NaN                  NaN   \n",
       "\n",
       "   vaccine_reasons___9  vaper_cur_stat  work_closecont  work_ppe  \\\n",
       "0                  NaN             NaN             NaN       NaN   \n",
       "1                  NaN             NaN             NaN       NaN   \n",
       "2                  NaN             NaN             NaN       NaN   \n",
       "3                  NaN             NaN             NaN       NaN   \n",
       "4                  NaN             NaN             NaN       NaN   \n",
       "\n",
       "   work_ppe_date_mdy  work_wash  zip_code  \n",
       "0                NaN        NaN       NaN  \n",
       "1                NaN        NaN       NaN  \n",
       "2                NaN        NaN       NaN  \n",
       "3                NaN        NaN       NaN  \n",
       "4                NaN        NaN       NaN  \n",
       "\n",
       "[5 rows x 255 columns]"
      ]
     },
     "execution_count": 3,
     "metadata": {},
     "output_type": "execute_result"
    }
   ],
   "source": [
    "df.head()"
   ]
  },
  {
   "cell_type": "markdown",
   "metadata": {},
   "source": [
    "## 3. Generate Factor Contributions"
   ]
  },
  {
   "cell_type": "code",
   "execution_count": 10,
   "metadata": {},
   "outputs": [],
   "source": [
    "# bin all numeric variables in df"
   ]
  },
  {
   "cell_type": "code",
   "execution_count": 73,
   "metadata": {},
   "outputs": [],
   "source": [
    "def find_factor_contributions(var, filter_vars):\n",
    "    \"\"\"\n",
    "    Helper function to find all the factor contributions from\n",
    "    a list of filter variables to the levels of the variable of interest.\n",
    "    \"\"\"\n",
    "    out = {var: {}}\n",
    "    \n",
    "    for f in filter_vars:\n",
    "        if var == f:\n",
    "            continue\n",
    "        x_levels = df[var].value_counts().index.to_list()\n",
    "        a_levels = df[f].value_counts().index.to_list()\n",
    "\n",
    "        for i in x_levels:\n",
    "            if (var + '_' + str(i)) not in out[var].keys():\n",
    "                out[var][var + '_' + str(i)] = {}\n",
    "            for j in a_levels:\n",
    "                x_prop = df[df[var]==i].shape[0]/df.shape[0]\n",
    "                a_count = df[df[f]==j].shape[0]\n",
    "                ax_count = df[(df[f]==j) & (df[var]==i)].shape[0]\n",
    "                ax_prop = ax_count/a_count\n",
    "                contribution = (ax_prop - x_prop)*100\n",
    "                out[var][var + '_' + str(i)][f + '_' + str(j)] = contribution\n",
    "                \n",
    "    return out"
   ]
  },
  {
   "cell_type": "code",
   "execution_count": null,
   "metadata": {},
   "outputs": [],
   "source": [
    "# second check on calculations"
   ]
  },
  {
   "cell_type": "code",
   "execution_count": 74,
   "metadata": {},
   "outputs": [
    {
     "data": {
      "text/plain": [
       "{'cc_cancer': {'cc_cancer_0.0': {'bio_sex_birth_2_1.0': 5.269568853137524,\n",
       "   'bio_sex_birth_2_0.0': -2.520863550947794,\n",
       "   'bio_sex_birth_2_99.0': 4.706165703275528,\n",
       "   'bio_sex_birth_2_96.0': 51.37283236994219,\n",
       "   'bio_sex_birth_2_3.0': -48.627167630057805,\n",
       "   'cov_tst_mthd_1.0': 25.813424869154293,\n",
       "   'cov_tst_mthd_4.0': 27.197008194118016,\n",
       "   'cov_tst_mthd_2.0': 20.603601600711425,\n",
       "   'cov_tst_mthd_3.0': 30.784597075824543},\n",
       "  'cc_cancer_1.0': {'bio_sex_birth_2_1.0': 0.1863619854210248,\n",
       "   'bio_sex_birth_2_0.0': -0.19979946221577588,\n",
       "   'bio_sex_birth_2_99.0': -0.9826589595375723,\n",
       "   'bio_sex_birth_2_96.0': -0.9826589595375723,\n",
       "   'bio_sex_birth_2_3.0': 99.01734104046243,\n",
       "   'cov_tst_mthd_1.0': 0.5931368173297458,\n",
       "   'cov_tst_mthd_4.0': 1.2151432382646257,\n",
       "   'cov_tst_mthd_2.0': 4.145546168667556,\n",
       "   'cov_tst_mthd_3.0': 1.9585175110506627}}}"
      ]
     },
     "execution_count": 74,
     "metadata": {},
     "output_type": "execute_result"
    }
   ],
   "source": [
    "find_factor_contributions('cc_cancer', ['bio_sex_birth_2', 'cov_tst_mthd'])"
   ]
  },
  {
   "cell_type": "code",
   "execution_count": 66,
   "metadata": {},
   "outputs": [],
   "source": [
    "# find contributions for all variables and all levels in survey\n",
    "\n",
    "contributions = {}\n",
    "for col in list(df.columns):\n",
    "    if contributions == {}:\n",
    "        contributions = find_factor_contributions(col, list(df.columns))\n",
    "    else:\n",
    "        contributions.update(find_factor_contributions(col, list(df.columns)))\n",
    "contributions"
   ]
  },
  {
   "cell_type": "markdown",
   "metadata": {},
   "source": [
    "## 4. Analyze Factor Contributions"
   ]
  },
  {
   "cell_type": "code",
   "execution_count": null,
   "metadata": {},
   "outputs": [],
   "source": [
    "# sort dictionaries\n",
    "\n"
   ]
  },
  {
   "cell_type": "code",
   "execution_count": 76,
   "metadata": {},
   "outputs": [
    {
     "data": {},
     "metadata": {},
     "output_type": "display_data"
    },
    {
     "data": {
      "application/vnd.holoviews_exec.v0+json": "",
      "text/html": [
       "<div id='1002'>\n",
       "\n",
       "\n",
       "\n",
       "\n",
       "\n",
       "  <div class=\"bk-root\" id=\"671f593b-f47d-425d-93ec-774f5602a7c5\" data-root-id=\"1002\"></div>\n",
       "</div>\n",
       "<script type=\"application/javascript\">(function(root) {\n",
       "  function embed_document(root) {\n",
       "    var docs_json = {\"e7cae2ed-814b-4c40-bb18-27f14edefabe\":{\"defs\":[{\"extends\":null,\"module\":null,\"name\":\"ReactiveHTML1\",\"overrides\":[],\"properties\":[]},{\"extends\":null,\"module\":null,\"name\":\"FlexBox1\",\"overrides\":[],\"properties\":[{\"default\":\"flex-start\",\"kind\":null,\"name\":\"align_content\"},{\"default\":\"flex-start\",\"kind\":null,\"name\":\"align_items\"},{\"default\":\"row\",\"kind\":null,\"name\":\"flex_direction\"},{\"default\":\"wrap\",\"kind\":null,\"name\":\"flex_wrap\"},{\"default\":\"flex-start\",\"kind\":null,\"name\":\"justify_content\"}]},{\"extends\":null,\"module\":null,\"name\":\"GridStack1\",\"overrides\":[],\"properties\":[{\"default\":\"warn\",\"kind\":null,\"name\":\"mode\"},{\"default\":null,\"kind\":null,\"name\":\"ncols\"},{\"default\":null,\"kind\":null,\"name\":\"nrows\"},{\"default\":true,\"kind\":null,\"name\":\"allow_resize\"},{\"default\":true,\"kind\":null,\"name\":\"allow_drag\"},{\"default\":[],\"kind\":null,\"name\":\"state\"}]},{\"extends\":null,\"module\":null,\"name\":\"click1\",\"overrides\":[],\"properties\":[{\"default\":\"\",\"kind\":null,\"name\":\"terminal_output\"},{\"default\":\"\",\"kind\":null,\"name\":\"debug_name\"},{\"default\":0,\"kind\":null,\"name\":\"clears\"}]},{\"extends\":null,\"module\":null,\"name\":\"NotificationAreaBase1\",\"overrides\":[],\"properties\":[{\"default\":\"bottom-right\",\"kind\":null,\"name\":\"position\"},{\"default\":0,\"kind\":null,\"name\":\"_clear\"}]},{\"extends\":null,\"module\":null,\"name\":\"NotificationArea1\",\"overrides\":[],\"properties\":[{\"default\":[],\"kind\":null,\"name\":\"notifications\"},{\"default\":\"bottom-right\",\"kind\":null,\"name\":\"position\"},{\"default\":0,\"kind\":null,\"name\":\"_clear\"},{\"default\":[{\"background\":\"#ffc107\",\"icon\":{\"className\":\"fas fa-exclamation-triangle\",\"color\":\"white\",\"tagName\":\"i\"},\"type\":\"warning\"},{\"background\":\"#007bff\",\"icon\":{\"className\":\"fas fa-info-circle\",\"color\":\"white\",\"tagName\":\"i\"},\"type\":\"info\"}],\"kind\":null,\"name\":\"types\"}]},{\"extends\":null,\"module\":null,\"name\":\"Notification\",\"overrides\":[],\"properties\":[{\"default\":null,\"kind\":null,\"name\":\"background\"},{\"default\":3000,\"kind\":null,\"name\":\"duration\"},{\"default\":null,\"kind\":null,\"name\":\"icon\"},{\"default\":\"\",\"kind\":null,\"name\":\"message\"},{\"default\":null,\"kind\":null,\"name\":\"notification_type\"},{\"default\":false,\"kind\":null,\"name\":\"_destroyed\"}]},{\"extends\":null,\"module\":null,\"name\":\"TemplateActions1\",\"overrides\":[],\"properties\":[{\"default\":0,\"kind\":null,\"name\":\"open_modal\"},{\"default\":0,\"kind\":null,\"name\":\"close_modal\"}]},{\"extends\":null,\"module\":null,\"name\":\"MaterialTemplateActions1\",\"overrides\":[],\"properties\":[{\"default\":0,\"kind\":null,\"name\":\"open_modal\"},{\"default\":0,\"kind\":null,\"name\":\"close_modal\"}]}],\"roots\":{\"references\":[{\"attributes\":{\"reload\":false},\"id\":\"1004\",\"type\":\"panel.models.location.Location\"},{\"attributes\":{\"client_comm_id\":\"25c427767bd64dbfa61a14cb5f330b9c\",\"comm_id\":\"790274463cfa4e66a55db3c644dc14f8\",\"plot_id\":\"1002\"},\"id\":\"1003\",\"type\":\"panel.models.comm_manager.CommManager\"},{\"attributes\":{\"margin\":[5,10,5,10],\"options\":[\"record_id\",\"bio_sex_birth_2\",\"gender_identity_term\",\"race_ethn_hispanic\",\"race_ethn_hispanic_detail_2___1\",\"race_ethn_hispanic_detail_2___2\",\"race_ethn_hispanic_detail_2___3\",\"race_ethn_hispanic_detail_2___4\",\"race_ethn_hispanic_detail_2___5\",\"race_ethn_hispanic_detail_2___6\",\"race_ethn_hispanic_detail_2___7\",\"race_ethn_hispanic_detail_2___99\",\"race_ethn_race___1\",\"race_ethn_race___2\",\"race_ethn_race___3\",\"race_ethn_race___4\",\"race_ethn_race___5\",\"race_ethn_race___15\",\"race_ethn_race___99\",\"tested_for_covid\",\"tested_positive_for_covid\",\"current_county\",\"survey_language\",\"age_yrs\",\"alcohol_date_mdy\",\"alcohol_daysperweek\",\"cc_asthma\",\"cc_asud\",\"cc_autoimm\",\"cc_cancer\",\"cc_chronickd\",\"cc_clung\",\"cc_copd\",\"cc_cvd\",\"cc_depression\",\"cc_diabetes\",\"cc_hypertension\",\"cc_imm\",\"cc_intrav\",\"cc_otherchroniccond\",\"cc_othermh\",\"cc_sickle\",\"consent_given\",\"consent_recontact\",\"consentdt_mdy\",\"cov_tst_mthd\",\"covid_abpain\",\"covid_barrier___1\",\"covid_barrier___2\",\"covid_barrier___3\",\"covid_barrier___4\",\"covid_barrier___5\",\"covid_barrier___6\",\"covid_barrier___7\",\"covid_barrier___8\",\"covid_barrier___9\",\"covid_barrier___98\",\"covid_barrier___99\",\"covid_cough\",\"covid_diffbreath\",\"covid_fatique\",\"covid_fever\",\"covid_had\",\"covid_headache\",\"covid_iso_chal_other\",\"covid_myalgia\",\"covid_nausea\",\"covid_olfactory\",\"covid_other\",\"covid_pandemic_challenges_abode\",\"covid_pandemic_challenges_food\",\"covid_pandemic_challenges_healthcare\",\"covid_pandemic_challenges_medications\",\"covid_pandemic_challenges_transportation\",\"covid_pandemic_challenges_water\",\"covid_pto\",\"covid_risk\",\"covid_runnynose\",\"covid_skinrash\",\"covid_test_approval\",\"covid_test_approval_other\",\"covid_test_collect_datetime\",\"covid_test_collection_setting\",\"covid_test_collection_setting_other\",\"covid_test_date_mdy\",\"covid_test_name\",\"covid_test_performed_location\",\"covid_test_performed_location_other\",\"covid_test_result\",\"covid_test_result_datetime\",\"covid_test_result_other\",\"covid_test_result_raw\",\"covid_test_result_sent_datetime\",\"covid_test_specimen_collector\",\"covid_test_specimen_collector_other\",\"covid_test_specimen_type\",\"covid_test_specimen_type_other\",\"covid_test_study_setting\",\"covid_test_study_setting_other\",\"covid_test_tar_dis_stat_2___1\",\"covid_test_tar_dis_stat_2___2\",\"covid_test_tar_dis_stat_2___3\",\"covid_test_tar_dis_stat_2___4\",\"covid_test_tar_dis_stat_2___5\",\"covid_test_tar_dis_stat_2___6\",\"covid_test_tar_dis_stat_2___9\",\"covid_test_type\",\"covid_test_type_other\",\"covid_tested_30\",\"covid_tst_reas\",\"covid_vaccine\",\"covid_vaccine_course\",\"current_employment_status\",\"current_state\",\"edu_years_of_school\",\"employed_ew\",\"employed_healthcare\",\"family_income\",\"flu_vaccine_season_2\",\"flu_vaccinehistind\",\"hi_coverage_type\",\"hi_loss_covid\",\"hlthstat_date_mdy\",\"household_congregate_2\",\"household_famgen_2\",\"household_homeless\",\"household_other\",\"housing_date_mdy\",\"iden_date_mdy\",\"isolate_maintain_job\",\"jobloss_covid19\",\"language_english\",\"language_spoken___1\",\"language_spoken___2\",\"language_spoken___3\",\"language_spoken___4\",\"language_spoken___5\",\"language_spoken___6\",\"language_spoken___7\",\"language_spoken___8\",\"language_spoken___90\",\"lifetime_use_alcohol\",\"med_hx_date_mdy\",\"missed_procedure\",\"positivemonth_covidtest\",\"positiveyear_covidtest_2\",\"preferred_contact_method\",\"pregnancy_status\",\"quarantine_maintain_job\",\"race_ethn_asian_detail_2___1\",\"race_ethn_asian_detail_2___2\",\"race_ethn_asian_detail_2___3\",\"race_ethn_asian_detail_2___4\",\"race_ethn_asian_detail_2___5\",\"race_ethn_islander_detail_2___1\",\"race_ethn_islander_detail_2___10\",\"race_ethn_islander_detail_2___11\",\"race_ethn_islander_detail_2___12\",\"race_ethn_islander_detail_2___13\",\"race_ethn_islander_detail_2___14\",\"race_ethn_islander_detail_2___2\",\"race_ethn_islander_detail_2___3\",\"race_ethn_islander_detail_2___4\",\"race_ethn_islander_detail_2___5\",\"race_ethn_islander_detail_2___6\",\"race_ethn_islander_detail_2___7\",\"race_ethn_islander_detail_2___8\",\"race_ethn_islander_detail_2___9\",\"recentmonth_covidtest\",\"recentresult_covidtest\",\"recentyear_covidtest_2\",\"self_reported_disability\",\"self_reported_health_status_assessment\",\"self_reported_height_centimeters\",\"self_reported_height_coded\",\"self_reported_height_feet\",\"self_reported_height_inches\",\"self_reported_height_meters\",\"self_reported_weight_kgs\",\"self_reported_weight_lbs\",\"self_reported_weight_units\",\"sex_orient_id\",\"smoker_cur_stat\",\"smoker_number\",\"sociodem_date_mdy\",\"sym_date_mdy\",\"test_accesseasy\",\"test_accesswhere\",\"test_date_mdy\",\"test_intent\",\"test_pbenearound\",\"test_pbeneexposed\",\"test_pbenepos\",\"test_pbenesafe\",\"test_pbenework\",\"test_pbeneworry\",\"test_percvaccuneg\",\"test_percvaccupos\",\"test_priskcontact\",\"test_priskhlthcare\",\"test_priskknow\",\"test_prisklater\",\"test_prisknohelp\",\"test_prisknosymp\",\"test_priskouch\",\"test_resneg___1\",\"test_resneg___2\",\"test_resneg___3\",\"test_resneg___4\",\"test_respos___1\",\"test_respos___2\",\"test_respos___3\",\"testing_comm___1\",\"testing_comm___2\",\"testing_comm___3\",\"testing_comm___4\",\"testing_died\",\"testing_hosp\",\"testing_sick\",\"testing_wait\",\"trust_coll\",\"trust_cortf\",\"trust_doc\",\"trust_fam\",\"trust_flead\",\"trust_news\",\"trust_social\",\"trust_usgov\",\"vacc_date_mdy\",\"vaccine_avail\",\"vaccine_concerns___1\",\"vaccine_concerns___10\",\"vaccine_concerns___2\",\"vaccine_concerns___3\",\"vaccine_concerns___4\",\"vaccine_concerns___5\",\"vaccine_concerns___6\",\"vaccine_concerns___7\",\"vaccine_concerns___8\",\"vaccine_concerns___9\",\"vaccine_reasons___1\",\"vaccine_reasons___2\",\"vaccine_reasons___3\",\"vaccine_reasons___4\",\"vaccine_reasons___5\",\"vaccine_reasons___6\",\"vaccine_reasons___7\",\"vaccine_reasons___8\",\"vaccine_reasons___9\",\"vaper_cur_stat\",\"work_closecont\",\"work_ppe\",\"work_ppe_date_mdy\",\"work_wash\",\"zip_code\"],\"title\":\"Select a variable to investigate: \",\"value\":\"record_id\"},\"id\":\"1002\",\"type\":\"panel.models.widgets.CustomSelect\"}],\"root_ids\":[\"1002\",\"1003\",\"1004\"]},\"title\":\"Bokeh Application\",\"version\":\"2.4.2\"}};\n",
       "    var render_items = [{\"docid\":\"e7cae2ed-814b-4c40-bb18-27f14edefabe\",\"root_ids\":[\"1002\"],\"roots\":{\"1002\":\"671f593b-f47d-425d-93ec-774f5602a7c5\"}}];\n",
       "    root.Bokeh.embed.embed_items_notebook(docs_json, render_items);\n",
       "  }\n",
       "  if (root.Bokeh !== undefined && root.Bokeh.Panel !== undefined) {\n",
       "    embed_document(root);\n",
       "  } else {\n",
       "    var attempts = 0;\n",
       "    var timer = setInterval(function(root) {\n",
       "      if (root.Bokeh !== undefined && root.Bokeh.Panel !== undefined) {\n",
       "        clearInterval(timer);\n",
       "        embed_document(root);\n",
       "      } else if (document.readyState == \"complete\") {\n",
       "        attempts++;\n",
       "        if (attempts > 200) {\n",
       "          clearInterval(timer);\n",
       "          console.log(\"Bokeh: ERROR: Unable to run BokehJS code because BokehJS library is missing\");\n",
       "        }\n",
       "      }\n",
       "    }, 25, root)\n",
       "  }\n",
       "})(window);</script>"
      ],
      "text/plain": [
       "Select(options=['record_id', ...], value='record_id')"
      ]
     },
     "execution_count": 76,
     "metadata": {
      "application/vnd.holoviews_exec.v0+json": {
       "id": "1002"
      }
     },
     "output_type": "execute_result"
    }
   ],
   "source": [
    "# have user select variable of interest to investigate\n",
    "selector = pn.widgets.Select(name='Select a variable to investigate: ', options=list(df.columns))\n",
    "selector"
   ]
  },
  {
   "cell_type": "code",
   "execution_count": null,
   "metadata": {},
   "outputs": [],
   "source": [
    "# display largest contributions to each level of the selected variable of interest\n",
    "\n",
    "contributions[selector.value]"
   ]
  }
 ],
 "metadata": {
  "kernelspec": {
   "display_name": "Python 3",
   "language": "python",
   "name": "python3"
  },
  "language_info": {
   "codemirror_mode": {
    "name": "ipython",
    "version": 3
   },
   "file_extension": ".py",
   "mimetype": "text/x-python",
   "name": "python",
   "nbconvert_exporter": "python",
   "pygments_lexer": "ipython3",
   "version": "3.7.6"
  }
 },
 "nbformat": 4,
 "nbformat_minor": 4
}
